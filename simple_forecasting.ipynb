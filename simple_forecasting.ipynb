{
 "cells": [
  {
   "cell_type": "markdown",
   "metadata": {},
   "source": [
    "# Simple Forecasting Model\n",
    "\n",
    "Steps of forecasting\n",
    "1. Choose a model that you will using for forecasting\n",
    "2. Split data into train and test\n",
    "3. Fit the training model and evaluate of test set\n",
    "4. Refit the model of entire data set\n",
    "5. Forecast into future"
   ]
  },
  {
   "cell_type": "markdown",
   "metadata": {},
   "source": [
    "<Strong><a href=\"http://datagyani.in/index.php/2021/09/01/analyze-time-series-data/\">HOW TO ANALYZE TIME SERIES DATA…</a></Strong>"
   ]
  },
  {
   "cell_type": "markdown",
   "metadata": {},
   "source": [
    "We are using Holt-Winters method for forecasting "
   ]
  },
  {
   "cell_type": "code",
   "execution_count": 1,
   "metadata": {},
   "outputs": [],
   "source": [
    "#let's import all the neccessary libraries\n",
    "import pandas as pd # data processing\n",
    "import numpy as np # data processing\n",
    "import os #helps changing directory and locating your file\n",
    "from statsmodels.tsa.holtwinters import ExponentialSmoothing as ES #for forecasting\n",
    "from sklearn.metrics import mean_squared_error #evaluation metric\n",
    "import warnings\n",
    "warnings.filterwarnings(\"ignore\")"
   ]
  },
  {
   "cell_type": "code",
   "execution_count": 2,
   "metadata": {},
   "outputs": [
    {
     "data": {
      "text/plain": [
       "'D:\\\\blog\\\\Time Series'"
      ]
     },
     "execution_count": 2,
     "metadata": {},
     "output_type": "execute_result"
    }
   ],
   "source": [
    "#changing directory\n",
    "os.chdir('D:\\\\blog/Time Series')\n",
    "os.getcwd()"
   ]
  },
  {
   "cell_type": "code",
   "execution_count": 3,
   "metadata": {},
   "outputs": [
    {
     "data": {
      "text/html": [
       "<div>\n",
       "<style scoped>\n",
       "    .dataframe tbody tr th:only-of-type {\n",
       "        vertical-align: middle;\n",
       "    }\n",
       "\n",
       "    .dataframe tbody tr th {\n",
       "        vertical-align: top;\n",
       "    }\n",
       "\n",
       "    .dataframe thead th {\n",
       "        text-align: right;\n",
       "    }\n",
       "</style>\n",
       "<table border=\"1\" class=\"dataframe\">\n",
       "  <thead>\n",
       "    <tr style=\"text-align: right;\">\n",
       "      <th></th>\n",
       "      <th>Passengers(in thousands)</th>\n",
       "    </tr>\n",
       "    <tr>\n",
       "      <th>Month</th>\n",
       "      <th></th>\n",
       "    </tr>\n",
       "  </thead>\n",
       "  <tbody>\n",
       "    <tr>\n",
       "      <th>1949-01-01</th>\n",
       "      <td>112</td>\n",
       "    </tr>\n",
       "    <tr>\n",
       "      <th>1949-02-01</th>\n",
       "      <td>118</td>\n",
       "    </tr>\n",
       "    <tr>\n",
       "      <th>1949-03-01</th>\n",
       "      <td>132</td>\n",
       "    </tr>\n",
       "    <tr>\n",
       "      <th>1949-04-01</th>\n",
       "      <td>129</td>\n",
       "    </tr>\n",
       "    <tr>\n",
       "      <th>1949-05-01</th>\n",
       "      <td>121</td>\n",
       "    </tr>\n",
       "  </tbody>\n",
       "</table>\n",
       "</div>"
      ],
      "text/plain": [
       "            Passengers(in thousands)\n",
       "Month                               \n",
       "1949-01-01                       112\n",
       "1949-02-01                       118\n",
       "1949-03-01                       132\n",
       "1949-04-01                       129\n",
       "1949-05-01                       121"
      ]
     },
     "execution_count": 3,
     "metadata": {},
     "output_type": "execute_result"
    }
   ],
   "source": [
    "#reading the dataset\n",
    "airline = pd.read_csv('airline.csv',index_col='Month',parse_dates=True)\n",
    "#dropping NA if any in the dataset\n",
    "airline.dropna(inplace=True)\n",
    "#printing the  the first five column\n",
    "airline.head()"
   ]
  },
  {
   "cell_type": "code",
   "execution_count": 4,
   "metadata": {},
   "outputs": [
    {
     "data": {
      "text/plain": [
       "DatetimeIndex(['1949-01-01', '1949-02-01', '1949-03-01', '1949-04-01',\n",
       "               '1949-05-01', '1949-06-01', '1949-07-01', '1949-08-01',\n",
       "               '1949-09-01', '1949-10-01',\n",
       "               ...\n",
       "               '1960-03-01', '1960-04-01', '1960-05-01', '1960-06-01',\n",
       "               '1960-07-01', '1960-08-01', '1960-09-01', '1960-10-01',\n",
       "               '1960-11-01', '1960-12-01'],\n",
       "              dtype='datetime64[ns]', name='Month', length=144, freq='MS')"
      ]
     },
     "execution_count": 4,
     "metadata": {},
     "output_type": "execute_result"
    }
   ],
   "source": [
    "#refer above codes smoothing technique codes if dont nknow why we are using MS\n",
    "airline.index.freq = 'MS'\n",
    "airline.index"
   ]
  },
  {
   "cell_type": "code",
   "execution_count": 5,
   "metadata": {},
   "outputs": [
    {
     "name": "stdout",
     "output_type": "stream",
     "text": [
      "<class 'pandas.core.frame.DataFrame'>\n",
      "DatetimeIndex: 144 entries, 1949-01-01 to 1960-12-01\n",
      "Freq: MS\n",
      "Data columns (total 1 columns):\n",
      " #   Column                    Non-Null Count  Dtype\n",
      "---  ------                    --------------  -----\n",
      " 0   Passengers(in thousands)  144 non-null    int64\n",
      "dtypes: int64(1)\n",
      "memory usage: 2.2 KB\n"
     ]
    }
   ],
   "source": [
    "airline.info()"
   ]
  },
  {
   "cell_type": "markdown",
   "metadata": {},
   "source": [
    "we have 144 entries in our dataset"
   ]
  },
  {
   "cell_type": "code",
   "execution_count": 6,
   "metadata": {},
   "outputs": [],
   "source": [
    "#Train and test split\n",
    "#making first 110 entries as training set and rest as test set\n",
    "train = airline.iloc[:110] \n",
    "test = airline.iloc[110:]"
   ]
  },
  {
   "cell_type": "markdown",
   "metadata": {},
   "source": [
    "Let's fit the model now and forecast rest 34 entries"
   ]
  },
  {
   "cell_type": "code",
   "execution_count": 7,
   "metadata": {},
   "outputs": [
    {
     "data": {
      "text/html": [
       "<table class=\"simpletable\">\n",
       "<caption>ExponentialSmoothing Model Results</caption>\n",
       "<tr>\n",
       "  <th>Dep. Variable:</th>            <td>endog</td>        <th>  No. Observations:  </th>        <td>110</td>      \n",
       "</tr>\n",
       "<tr>\n",
       "  <th>Model:</th>            <td>ExponentialSmoothing</td> <th>  SSE                </th>     <td>5330.852</td>    \n",
       "</tr>\n",
       "<tr>\n",
       "  <th>Optimized:</th>                <td>True</td>         <th>  AIC                </th>      <td>458.886</td>    \n",
       "</tr>\n",
       "<tr>\n",
       "  <th>Trend:</th>               <td>Multiplicative</td>    <th>  BIC                </th>      <td>502.094</td>    \n",
       "</tr>\n",
       "<tr>\n",
       "  <th>Seasonal:</th>            <td>Multiplicative</td>    <th>  AICC               </th>      <td>466.403</td>    \n",
       "</tr>\n",
       "<tr>\n",
       "  <th>Seasonal Periods:</th>          <td>12</td>          <th>  Date:              </th> <td>Thu, 05 Nov 2020</td>\n",
       "</tr>\n",
       "<tr>\n",
       "  <th>Box-Cox:</th>                  <td>False</td>        <th>  Time:              </th>     <td>01:23:44</td>    \n",
       "</tr>\n",
       "<tr>\n",
       "  <th>Box-Cox Coeff.:</th>           <td>None</td>         <th>                     </th>         <td> </td>       \n",
       "</tr>\n",
       "</table>\n",
       "<table class=\"simpletable\">\n",
       "<tr>\n",
       "           <td></td>                  <th>coeff</th>                <th>code</th>               <th>optimized</th>     \n",
       "</tr>\n",
       "<tr>\n",
       "  <th>smoothing_level</th>    <td>           0.7811353</td> <td>               alpha</td> <td>                True</td>\n",
       "</tr>\n",
       "<tr>\n",
       "  <th>smoothing_slope</th>    <td>          1.3707e-32</td> <td>                beta</td> <td>                True</td>\n",
       "</tr>\n",
       "<tr>\n",
       "  <th>smoothing_seasonal</th> <td>          1.6447e-21</td> <td>               gamma</td> <td>                True</td>\n",
       "</tr>\n",
       "<tr>\n",
       "  <th>initial_level</th>      <td>           212.39906</td> <td>                 l.0</td> <td>                True</td>\n",
       "</tr>\n",
       "<tr>\n",
       "  <th>initial_slope</th>      <td>           1.0087689</td> <td>                 b.0</td> <td>                True</td>\n",
       "</tr>\n",
       "<tr>\n",
       "  <th>initial_seasons.0</th>  <td>           0.5305048</td> <td>                 s.0</td> <td>                True</td>\n",
       "</tr>\n",
       "<tr>\n",
       "  <th>initial_seasons.1</th>  <td>           0.5104147</td> <td>                 s.1</td> <td>                True</td>\n",
       "</tr>\n",
       "<tr>\n",
       "  <th>initial_seasons.2</th>  <td>           0.5907143</td> <td>                 s.2</td> <td>                True</td>\n",
       "</tr>\n",
       "<tr>\n",
       "  <th>initial_seasons.3</th>  <td>           0.5721473</td> <td>                 s.3</td> <td>                True</td>\n",
       "</tr>\n",
       "<tr>\n",
       "  <th>initial_seasons.4</th>  <td>           0.5717116</td> <td>                 s.4</td> <td>                True</td>\n",
       "</tr>\n",
       "<tr>\n",
       "  <th>initial_seasons.5</th>  <td>           0.6529265</td> <td>                 s.5</td> <td>                True</td>\n",
       "</tr>\n",
       "<tr>\n",
       "  <th>initial_seasons.6</th>  <td>           0.7200424</td> <td>                 s.6</td> <td>                True</td>\n",
       "</tr>\n",
       "<tr>\n",
       "  <th>initial_seasons.7</th>  <td>           0.7084073</td> <td>                 s.7</td> <td>                True</td>\n",
       "</tr>\n",
       "<tr>\n",
       "  <th>initial_seasons.8</th>  <td>           0.6191487</td> <td>                 s.8</td> <td>                True</td>\n",
       "</tr>\n",
       "<tr>\n",
       "  <th>initial_seasons.9</th>  <td>           0.5356797</td> <td>                 s.9</td> <td>                True</td>\n",
       "</tr>\n",
       "<tr>\n",
       "  <th>initial_seasons.10</th> <td>           0.4664795</td> <td>                s.10</td> <td>                True</td>\n",
       "</tr>\n",
       "<tr>\n",
       "  <th>initial_seasons.11</th> <td>           0.5233068</td> <td>                s.11</td> <td>                True</td>\n",
       "</tr>\n",
       "</table>"
      ],
      "text/plain": [
       "<class 'statsmodels.iolib.summary.Summary'>\n",
       "\"\"\"\n",
       "                       ExponentialSmoothing Model Results                       \n",
       "================================================================================\n",
       "Dep. Variable:                    endog   No. Observations:                  110\n",
       "Model:             ExponentialSmoothing   SSE                           5330.852\n",
       "Optimized:                         True   AIC                            458.886\n",
       "Trend:                   Multiplicative   BIC                            502.094\n",
       "Seasonal:                Multiplicative   AICC                           466.403\n",
       "Seasonal Periods:                    12   Date:                 Thu, 05 Nov 2020\n",
       "Box-Cox:                          False   Time:                         01:23:44\n",
       "Box-Cox Coeff.:                    None                                         \n",
       "=================================================================================\n",
       "                          coeff                 code              optimized      \n",
       "---------------------------------------------------------------------------------\n",
       "smoothing_level               0.7811353                alpha                 True\n",
       "smoothing_slope              1.3707e-32                 beta                 True\n",
       "smoothing_seasonal           1.6447e-21                gamma                 True\n",
       "initial_level                 212.39906                  l.0                 True\n",
       "initial_slope                 1.0087689                  b.0                 True\n",
       "initial_seasons.0             0.5305048                  s.0                 True\n",
       "initial_seasons.1             0.5104147                  s.1                 True\n",
       "initial_seasons.2             0.5907143                  s.2                 True\n",
       "initial_seasons.3             0.5721473                  s.3                 True\n",
       "initial_seasons.4             0.5717116                  s.4                 True\n",
       "initial_seasons.5             0.6529265                  s.5                 True\n",
       "initial_seasons.6             0.7200424                  s.6                 True\n",
       "initial_seasons.7             0.7084073                  s.7                 True\n",
       "initial_seasons.8             0.6191487                  s.8                 True\n",
       "initial_seasons.9             0.5356797                  s.9                 True\n",
       "initial_seasons.10            0.4664795                 s.10                 True\n",
       "initial_seasons.11            0.5233068                 s.11                 True\n",
       "---------------------------------------------------------------------------------\n",
       "\"\"\""
      ]
     },
     "execution_count": 7,
     "metadata": {},
     "output_type": "execute_result"
    }
   ],
   "source": [
    "model = ES(train['Passengers(in thousands)'],trend='mul',seasonal='mul',seasonal_periods=12).fit()\n",
    "model.summary()#this will provide details about your model"
   ]
  },
  {
   "cell_type": "code",
   "execution_count": 8,
   "metadata": {},
   "outputs": [
    {
     "data": {
      "text/plain": [
       "1958-03-01    374.630599\n",
       "1958-04-01    366.037238\n",
       "1958-05-01    368.965751\n",
       "1958-06-01    425.074492\n",
       "1958-07-01    472.879503\n",
       "1958-08-01    469.317903\n",
       "1958-09-01    413.781148\n",
       "1958-10-01    361.137530\n",
       "1958-11-01    317.242711\n",
       "1958-12-01    359.010534\n",
       "1959-01-01    367.140087\n",
       "1959-02-01    356.334043\n",
       "1959-03-01    416.009557\n",
       "1959-04-01    406.467036\n",
       "1959-05-01    409.719011\n",
       "1959-06-01    472.025114\n",
       "1959-07-01    525.110317\n",
       "1959-08-01    521.155328\n",
       "1959-09-01    459.484390\n",
       "1959-10-01    401.026142\n",
       "1959-11-01    352.283023\n",
       "1959-12-01    398.664213\n",
       "1960-01-01    407.691698\n",
       "1960-02-01    395.692097\n",
       "1960-03-01    461.958932\n",
       "1960-04-01    451.362414\n",
       "1960-05-01    454.973579\n",
       "1960-06-01    524.161558\n",
       "1960-07-01    583.110165\n",
       "1960-08-01    578.718337\n",
       "1960-09-01    510.235677\n",
       "1960-10-01    445.320558\n",
       "1960-11-01    391.193631\n",
       "1960-12-01    442.697749\n",
       "Freq: MS, Name: Forecast, dtype: float64"
      ]
     },
     "execution_count": 8,
     "metadata": {},
     "output_type": "execute_result"
    }
   ],
   "source": [
    "predictions = model.forecast(34).rename('Forecast')\n",
    "predictions"
   ]
  },
  {
   "cell_type": "markdown",
   "metadata": {},
   "source": [
    "Let's visualize and see how did we fare"
   ]
  },
  {
   "cell_type": "code",
   "execution_count": 9,
   "metadata": {},
   "outputs": [
    {
     "data": {
      "image/png": "[encoded data removed]",
      "text/plain": [
       "<Figure size 864x576 with 1 Axes>"
      ]
     },
     "metadata": {
      "needs_background": "light"
     },
     "output_type": "display_data"
    }
   ],
   "source": [
    "train['Passengers(in thousands)'].plot(legend=True,label='TRAIN',figsize=(12,8))\n",
    "test['Passengers(in thousands)'].plot(legend=True,label='TEST')\n",
    "predictions.plot(legend=True,label='PREDICTION');"
   ]
  },
  {
   "cell_type": "markdown",
   "metadata": {},
   "source": [
    "Looks good but let's check it using an evaluation metric"
   ]
  },
  {
   "cell_type": "code",
   "execution_count": 10,
   "metadata": {},
   "outputs": [
    {
     "data": {
      "text/plain": [
       "313.1225583845097"
      ]
     },
     "execution_count": 10,
     "metadata": {},
     "output_type": "execute_result"
    }
   ],
   "source": [
    "MSE= mean_squared_error(test,predictions)\n",
    "MSE"
   ]
  },
  {
   "cell_type": "code",
   "execution_count": 11,
   "metadata": {},
   "outputs": [
    {
     "data": {
      "text/plain": [
       "17.695269378692988"
      ]
     },
     "execution_count": 11,
     "metadata": {},
     "output_type": "execute_result"
    }
   ],
   "source": [
    "RMSE= np.sqrt(mean_squared_error(test,predictions))\n",
    "RMSE"
   ]
  },
  {
   "cell_type": "markdown",
   "metadata": {},
   "source": [
    "These are good scores. Let's perform the last step and forecast into future"
   ]
  },
  {
   "cell_type": "code",
   "execution_count": 12,
   "metadata": {},
   "outputs": [
    {
     "data": {
      "text/html": [
       "<table class=\"simpletable\">\n",
       "<caption>ExponentialSmoothing Model Results</caption>\n",
       "<tr>\n",
       "  <th>Dep. Variable:</th>            <td>endog</td>        <th>  No. Observations:  </th>        <td>144</td>      \n",
       "</tr>\n",
       "<tr>\n",
       "  <th>Model:</th>            <td>ExponentialSmoothing</td> <th>  SSE                </th>     <td>15805.300</td>   \n",
       "</tr>\n",
       "<tr>\n",
       "  <th>Optimized:</th>                <td>True</td>         <th>  AIC                </th>      <td>708.553</td>    \n",
       "</tr>\n",
       "<tr>\n",
       "  <th>Trend:</th>               <td>Multiplicative</td>    <th>  BIC                </th>      <td>756.070</td>    \n",
       "</tr>\n",
       "<tr>\n",
       "  <th>Seasonal:</th>            <td>Multiplicative</td>    <th>  AICC               </th>      <td>714.025</td>    \n",
       "</tr>\n",
       "<tr>\n",
       "  <th>Seasonal Periods:</th>          <td>12</td>          <th>  Date:              </th> <td>Thu, 05 Nov 2020</td>\n",
       "</tr>\n",
       "<tr>\n",
       "  <th>Box-Cox:</th>                  <td>False</td>        <th>  Time:              </th>     <td>01:23:46</td>    \n",
       "</tr>\n",
       "<tr>\n",
       "  <th>Box-Cox Coeff.:</th>           <td>None</td>         <th>                     </th>         <td> </td>       \n",
       "</tr>\n",
       "</table>\n",
       "<table class=\"simpletable\">\n",
       "<tr>\n",
       "           <td></td>                  <th>coeff</th>                <th>code</th>               <th>optimized</th>     \n",
       "</tr>\n",
       "<tr>\n",
       "  <th>smoothing_level</th>    <td>           0.2917104</td> <td>               alpha</td> <td>                True</td>\n",
       "</tr>\n",
       "<tr>\n",
       "  <th>smoothing_slope</th>    <td>          7.7169e-18</td> <td>                beta</td> <td>                True</td>\n",
       "</tr>\n",
       "<tr>\n",
       "  <th>smoothing_seasonal</th> <td>           0.5677274</td> <td>               gamma</td> <td>                True</td>\n",
       "</tr>\n",
       "<tr>\n",
       "  <th>initial_level</th>      <td>           241.74924</td> <td>                 l.0</td> <td>                True</td>\n",
       "</tr>\n",
       "<tr>\n",
       "  <th>initial_slope</th>      <td>           1.0091536</td> <td>                 b.0</td> <td>                True</td>\n",
       "</tr>\n",
       "<tr>\n",
       "  <th>initial_seasons.0</th>  <td>           0.4574813</td> <td>                 s.0</td> <td>                True</td>\n",
       "</tr>\n",
       "<tr>\n",
       "  <th>initial_seasons.1</th>  <td>           0.4822679</td> <td>                 s.1</td> <td>                True</td>\n",
       "</tr>\n",
       "<tr>\n",
       "  <th>initial_seasons.2</th>  <td>           0.5372813</td> <td>                 s.2</td> <td>                True</td>\n",
       "</tr>\n",
       "<tr>\n",
       "  <th>initial_seasons.3</th>  <td>           0.5122288</td> <td>                 s.3</td> <td>                True</td>\n",
       "</tr>\n",
       "<tr>\n",
       "  <th>initial_seasons.4</th>  <td>           0.4789310</td> <td>                 s.4</td> <td>                True</td>\n",
       "</tr>\n",
       "<tr>\n",
       "  <th>initial_seasons.5</th>  <td>           0.5252460</td> <td>                 s.5</td> <td>                True</td>\n",
       "</tr>\n",
       "<tr>\n",
       "  <th>initial_seasons.6</th>  <td>           0.5741368</td> <td>                 s.6</td> <td>                True</td>\n",
       "</tr>\n",
       "<tr>\n",
       "  <th>initial_seasons.7</th>  <td>           0.5678844</td> <td>                 s.7</td> <td>                True</td>\n",
       "</tr>\n",
       "<tr>\n",
       "  <th>initial_seasons.8</th>  <td>           0.5150926</td> <td>                 s.8</td> <td>                True</td>\n",
       "</tr>\n",
       "<tr>\n",
       "  <th>initial_seasons.9</th>  <td>           0.4459987</td> <td>                 s.9</td> <td>                True</td>\n",
       "</tr>\n",
       "<tr>\n",
       "  <th>initial_seasons.10</th> <td>           0.3911063</td> <td>                s.10</td> <td>                True</td>\n",
       "</tr>\n",
       "<tr>\n",
       "  <th>initial_seasons.11</th> <td>           0.4530494</td> <td>                s.11</td> <td>                True</td>\n",
       "</tr>\n",
       "</table>"
      ],
      "text/plain": [
       "<class 'statsmodels.iolib.summary.Summary'>\n",
       "\"\"\"\n",
       "                       ExponentialSmoothing Model Results                       \n",
       "================================================================================\n",
       "Dep. Variable:                    endog   No. Observations:                  144\n",
       "Model:             ExponentialSmoothing   SSE                          15805.300\n",
       "Optimized:                         True   AIC                            708.553\n",
       "Trend:                   Multiplicative   BIC                            756.070\n",
       "Seasonal:                Multiplicative   AICC                           714.025\n",
       "Seasonal Periods:                    12   Date:                 Thu, 05 Nov 2020\n",
       "Box-Cox:                          False   Time:                         01:23:46\n",
       "Box-Cox Coeff.:                    None                                         \n",
       "=================================================================================\n",
       "                          coeff                 code              optimized      \n",
       "---------------------------------------------------------------------------------\n",
       "smoothing_level               0.2917104                alpha                 True\n",
       "smoothing_slope              7.7169e-18                 beta                 True\n",
       "smoothing_seasonal            0.5677274                gamma                 True\n",
       "initial_level                 241.74924                  l.0                 True\n",
       "initial_slope                 1.0091536                  b.0                 True\n",
       "initial_seasons.0             0.4574813                  s.0                 True\n",
       "initial_seasons.1             0.4822679                  s.1                 True\n",
       "initial_seasons.2             0.5372813                  s.2                 True\n",
       "initial_seasons.3             0.5122288                  s.3                 True\n",
       "initial_seasons.4             0.4789310                  s.4                 True\n",
       "initial_seasons.5             0.5252460                  s.5                 True\n",
       "initial_seasons.6             0.5741368                  s.6                 True\n",
       "initial_seasons.7             0.5678844                  s.7                 True\n",
       "initial_seasons.8             0.5150926                  s.8                 True\n",
       "initial_seasons.9             0.4459987                  s.9                 True\n",
       "initial_seasons.10            0.3911063                 s.10                 True\n",
       "initial_seasons.11            0.4530494                 s.11                 True\n",
       "---------------------------------------------------------------------------------\n",
       "\"\"\""
      ]
     },
     "execution_count": 12,
     "metadata": {},
     "output_type": "execute_result"
    }
   ],
   "source": [
    "final_model = ES(airline['Passengers(in thousands)'],trend='mul',seasonal='mul',seasonal_periods=12).fit()\n",
    "final_model.summary()"
   ]
  },
  {
   "cell_type": "markdown",
   "metadata": {},
   "source": [
    "You would have observed that our final model has 144 observation. It is because we are forecasting on the complete airline dataset"
   ]
  },
  {
   "cell_type": "code",
   "execution_count": 13,
   "metadata": {},
   "outputs": [],
   "source": [
    "final_predictions = final_model.forecast(30) #forecasting 30 months in future"
   ]
  },
  {
   "cell_type": "code",
   "execution_count": 14,
   "metadata": {},
   "outputs": [
    {
     "data": {
      "image/png": "[encoded data removed]",
      "text/plain": [
       "<Figure size 864x576 with 1 Axes>"
      ]
     },
     "metadata": {
      "needs_background": "light"
     },
     "output_type": "display_data"
    }
   ],
   "source": [
    "airline['Passengers(in thousands)'].plot(figsize=(12,8))\n",
    "final_predictions.plot();"
   ]
  }
 ],
 "metadata": {
  "kernelspec": {
   "display_name": "Python 3",
   "language": "python",
   "name": "python3"
  },
  "language_info": {
   "codemirror_mode": {
    "name": "ipython",
    "version": 3
   },
   "file_extension": ".py",
   "mimetype": "text/x-python",
   "name": "python",
   "nbconvert_exporter": "python",
   "pygments_lexer": "ipython3",
   "version": "3.7.6"
  }
 },
 "nbformat": 4,
 "nbformat_minor": 4
}
